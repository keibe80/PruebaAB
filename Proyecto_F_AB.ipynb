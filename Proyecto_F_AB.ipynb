{
 "cells": [
  {
   "cell_type": "markdown",
   "metadata": {},
   "source": [
    "# Proyecto final: Test A/B"
   ]
  },
  {
   "cell_type": "markdown",
   "metadata": {},
   "source": [
    "# Índice\n",
    "1. [Introducción](#in)\n",
    "2. [Objetivos](#ob)\n",
    "3. [Análisis exploratorio de datos (EDA)](#eda)\n",
    "4. [ Valores nulos y duplicados](#nd)\n",
    "5. [Tratando valores nulos](#tvn)\n",
    "6. [Conviertiendo el tipo de datos](#ctd)\n",
    "7. [Estudiar y comprobar los datoss](#eyc)\n",
    "8. [Conversión en las etapas del embudo](#ce)\n",
    "9. [Distribución en las muestras A y B](#ayb)\n",
    "10. [Usuarios en las muestras](#uem) \n",
    "11. [Número de eventos en los días](#dn)\n",
    "12. [Análizando peculiaridades](#ap)\n",
    "13. [Recopilación datos de interés](#dti)\n",
    "14. [Prueba Z](#pz)\n",
    "15. [Conclusiones](#cl)\n",
    "16. [Recomendaciones](#rcs)"
   ]
  },
  {
   "cell_type": "markdown",
   "metadata": {},
   "source": [
    "#  Introducción  <a class=\"anchor\" id=\"in\"> </a>\n",
    "\n",
    "Se nos ha asignado la tarea de continuar con un análisis iniciado por nuestros predecesores para una tienda en línea internacional. A pesar de que se lanzó una prueba A/B con el objetivo de optimizar algún aspecto del sitio web o la experiencia del usuario, la investigación fue abandonada sin completarse. En este contexto, solo se nos proporcionaron las especificaciones técnicas y los resultados preliminares de la prueba, los cuales servirán como base para realizar un análisis más profundo y llegar a conclusiones que permitan avanzar con el proyecto. Este reporte tiene como objetivo analizar los datos disponibles, interpretar los resultados obtenidos hasta el momento y proponer recomendaciones o nuevas pruebas que contribuyan a la mejora de la tienda en línea."
   ]
  },
  {
   "cell_type": "markdown",
   "metadata": {},
   "source": [
    "#  Objetivos <a class=\"anchor\" id=\"ob\"></a>\n",
    "\n",
    "- Explora los datos:\n",
    "    - Convertir los tipos de datos\n",
    "    - Valores ausentes y duplicados \n",
    "- Análisis exploratorio de datos:\n",
    "    - La conversión en las diferentes etapas del embudo.\n",
    "    - Comprobar el número de eventos por usuario sea equitativo.\n",
    "    - Comprobar si hay usuarios en ambas muestras.\n",
    "    - Distribución del número de eventos entre los días.\n",
    "    - identificar peculiaridades en los datos antes de la prueba A/B\n",
    "- Evaluar los resultados de la prueba A/B:\n",
    "    - Interpretar resultados de la prueba A/B\n",
    "    - Uso de la prueba Z para comprobar la diferencia estadística entre las proporciones\n",
    "- Conclusiones"
   ]
  },
  {
   "cell_type": "markdown",
   "metadata": {},
   "source": [
    "#  Análisis exploratorio de datos (EDA) <a class=\"anchor\" id=\"eda\"></a>\n",
    "\n",
    "Se importan las librerías necesarias para este proyecto"
   ]
  },
  {
   "cell_type": "code",
   "execution_count": 1,
   "metadata": {},
   "outputs": [],
   "source": [
    "\n",
    "import pandas as pd\n",
    "import matplotlib.pyplot as plt\n",
    "import datetime as dt\n",
    "import seaborn as sns\n",
    "import re\n",
    "import numpy as np\n",
    "from scipy.stats import norm\n",
    "import math\n",
    "from statsmodels.stats.proportion import proportions_ztest "
   ]
  },
  {
   "cell_type": "markdown",
   "metadata": {},
   "source": [
    "Se cargan los datos los cuáles estarán contenidos en data frames. "
   ]
  },
  {
   "cell_type": "code",
   "execution_count": 2,
   "metadata": {},
   "outputs": [],
   "source": [
    "calendario=pd.read_csv(r\"ab_project_marketing_events_us.csv\",sep=\",\")\n",
    "eventos=pd.read_csv(r\"final_ab_events_upd_us.csv\",sep=\",\")\n",
    "usuarios=pd.read_csv(r\"final_ab_new_users_upd_us.csv\",sep=\",\")\n",
    "participantes=pd.read_csv(r\"final_ab_participants_upd_us.csv\",sep=\",\")"
   ]
  },
  {
   "cell_type": "markdown",
   "metadata": {},
   "source": [
    "Creación de funciones usadas a lo largo del proyecto, despliegan información general, valoes nulos y valores duplicados para los data frames."
   ]
  },
  {
   "cell_type": "code",
   "execution_count": 3,
   "metadata": {},
   "outputs": [],
   "source": [
    "def info(df,nombre):\n",
    "    print(f\"información para el data frame {nombre}\")\n",
    "    print(df.head())  #Primeras 5 filas del data frame\n",
    "    print(\"\\n\")\n",
    "    print(df.info(show_counts=True)) # Usando .info() en el data frame \n",
    "    print(\"\\n\")\n",
    "    print(df.describe()) # Usando el .describe en el data frame\n",
    "    print(\"\\n\")\n",
    "\n",
    "def nulos(df,nombre):\n",
    "    print(f\"valores nulos del data frame {nombre}\")\n",
    "    print(df.isnull().sum())\n",
    "    print(\"\\n\")\n",
    "\n",
    "def duplicados(df,nombre):\n",
    "    print(f\"Valores dulicados en data frame {nombre}\")\n",
    "    print(df.duplicated().sum())"
   ]
  },
  {
   "cell_type": "markdown",
   "metadata": {},
   "source": [
    "Usando las funciones para obtener información esencial de los data frames"
   ]
  },
  {
   "cell_type": "code",
   "execution_count": 4,
   "metadata": {},
   "outputs": [
    {
     "name": "stdout",
     "output_type": "stream",
     "text": [
      "información para el data frame calendario\n",
      "                           name                   regions    start_dt  \\\n",
      "0      Christmas&New Year Promo             EU, N.America  2020-12-25   \n",
      "1  St. Valentine's Day Giveaway  EU, CIS, APAC, N.America  2020-02-14   \n",
      "2        St. Patric's Day Promo             EU, N.America  2020-03-17   \n",
      "3                  Easter Promo  EU, CIS, APAC, N.America  2020-04-12   \n",
      "4             4th of July Promo                 N.America  2020-07-04   \n",
      "\n",
      "    finish_dt  \n",
      "0  2021-01-03  \n",
      "1  2020-02-16  \n",
      "2  2020-03-19  \n",
      "3  2020-04-19  \n",
      "4  2020-07-11  \n",
      "\n",
      "\n",
      "<class 'pandas.core.frame.DataFrame'>\n",
      "RangeIndex: 14 entries, 0 to 13\n",
      "Data columns (total 4 columns):\n",
      " #   Column     Non-Null Count  Dtype \n",
      "---  ------     --------------  ----- \n",
      " 0   name       14 non-null     object\n",
      " 1   regions    14 non-null     object\n",
      " 2   start_dt   14 non-null     object\n",
      " 3   finish_dt  14 non-null     object\n",
      "dtypes: object(4)\n",
      "memory usage: 580.0+ bytes\n",
      "None\n",
      "\n",
      "\n",
      "                            name regions    start_dt   finish_dt\n",
      "count                         14      14          14          14\n",
      "unique                        14       6          14          14\n",
      "top     Christmas&New Year Promo    APAC  2020-12-25  2021-01-03\n",
      "freq                           1       4           1           1\n",
      "\n",
      "\n",
      "información para el data frame eventos\n",
      "            user_id             event_dt event_name  details\n",
      "0  E1BDDCE0DAFA2679  2020-12-07 20:22:03   purchase    99.99\n",
      "1  7B6452F081F49504  2020-12-07 09:22:53   purchase     9.99\n",
      "2  9CD9F34546DF254C  2020-12-07 12:59:29   purchase     4.99\n",
      "3  96F27A054B191457  2020-12-07 04:02:40   purchase     4.99\n",
      "4  1FD7660FDF94CA1F  2020-12-07 10:15:09   purchase     4.99\n",
      "\n",
      "\n",
      "<class 'pandas.core.frame.DataFrame'>\n",
      "RangeIndex: 423761 entries, 0 to 423760\n",
      "Data columns (total 4 columns):\n",
      " #   Column      Non-Null Count   Dtype  \n",
      "---  ------      --------------   -----  \n",
      " 0   user_id     423761 non-null  object \n",
      " 1   event_dt    423761 non-null  object \n",
      " 2   event_name  423761 non-null  object \n",
      " 3   details     60314 non-null   float64\n",
      "dtypes: float64(1), object(3)\n",
      "memory usage: 12.9+ MB\n",
      "None\n",
      "\n",
      "\n",
      "            details\n",
      "count  60314.000000\n",
      "mean      23.881219\n",
      "std       72.228884\n",
      "min        4.990000\n",
      "25%        4.990000\n",
      "50%        4.990000\n",
      "75%        9.990000\n",
      "max      499.990000\n",
      "\n",
      "\n",
      "información para el data frame usuarios\n",
      "            user_id  first_date     region   device\n",
      "0  D72A72121175D8BE  2020-12-07         EU       PC\n",
      "1  F1C668619DFE6E65  2020-12-07  N.America  Android\n",
      "2  2E1BF1D4C37EA01F  2020-12-07         EU       PC\n",
      "3  50734A22C0C63768  2020-12-07         EU   iPhone\n",
      "4  E1BDDCE0DAFA2679  2020-12-07  N.America   iPhone\n",
      "\n",
      "\n",
      "<class 'pandas.core.frame.DataFrame'>\n",
      "RangeIndex: 58703 entries, 0 to 58702\n",
      "Data columns (total 4 columns):\n",
      " #   Column      Non-Null Count  Dtype \n",
      "---  ------      --------------  ----- \n",
      " 0   user_id     58703 non-null  object\n",
      " 1   first_date  58703 non-null  object\n",
      " 2   region      58703 non-null  object\n",
      " 3   device      58703 non-null  object\n",
      "dtypes: object(4)\n",
      "memory usage: 1.8+ MB\n",
      "None\n",
      "\n",
      "\n",
      "                 user_id  first_date region   device\n",
      "count              58703       58703  58703    58703\n",
      "unique             58703          17      4        4\n",
      "top     8F04273BB2860229  2020-12-21     EU  Android\n",
      "freq                   1        6077  43396    26159\n",
      "\n",
      "\n",
      "información para el data frame participantes\n",
      "            user_id group                  ab_test\n",
      "0  D1ABA3E2887B6A73     A  recommender_system_test\n",
      "1  A7A3664BD6242119     A  recommender_system_test\n",
      "2  DABC14FDDFADD29E     A  recommender_system_test\n",
      "3  04988C5DF189632E     A  recommender_system_test\n",
      "4  4FF2998A348C484F     A  recommender_system_test\n",
      "\n",
      "\n",
      "<class 'pandas.core.frame.DataFrame'>\n",
      "RangeIndex: 14525 entries, 0 to 14524\n",
      "Data columns (total 3 columns):\n",
      " #   Column   Non-Null Count  Dtype \n",
      "---  ------   --------------  ----- \n",
      " 0   user_id  14525 non-null  object\n",
      " 1   group    14525 non-null  object\n",
      " 2   ab_test  14525 non-null  object\n",
      "dtypes: object(3)\n",
      "memory usage: 340.6+ KB\n",
      "None\n",
      "\n",
      "\n",
      "                 user_id  group            ab_test\n",
      "count              14525  14525              14525\n",
      "unique             13638      2                  2\n",
      "top     FABB6D49B11E673F      A  interface_eu_test\n",
      "freq                   2   8214              10850\n",
      "\n",
      "\n"
     ]
    }
   ],
   "source": [
    "info(calendario,\"calendario\")\n",
    "info(eventos,\"eventos\")\n",
    "info(usuarios,\"usuarios\")\n",
    "info(participantes,\"participantes\")"
   ]
  },
  {
   "cell_type": "markdown",
   "metadata": {},
   "source": [
    "#  Valores nulos y duplicados <a class=\"anchor\" id=\"nd\"></a>\n",
    "\n",
    "Se usarán las funciones previas para obtener los valores nulos y duplicados.\n",
    "\n",
    "## Valores nulos en los data frames"
   ]
  },
  {
   "cell_type": "code",
   "execution_count": 5,
   "metadata": {},
   "outputs": [
    {
     "name": "stdout",
     "output_type": "stream",
     "text": [
      "valores nulos del data frame calendario\n",
      "name         0\n",
      "regions      0\n",
      "start_dt     0\n",
      "finish_dt    0\n",
      "dtype: int64\n",
      "\n",
      "\n",
      "valores nulos del data frame eventos\n",
      "user_id            0\n",
      "event_dt           0\n",
      "event_name         0\n",
      "details       363447\n",
      "dtype: int64\n",
      "\n",
      "\n",
      "valores nulos del data frame usuarios\n",
      "user_id       0\n",
      "first_date    0\n",
      "region        0\n",
      "device        0\n",
      "dtype: int64\n",
      "\n",
      "\n",
      "valores nulos del data frame participantes\n",
      "user_id    0\n",
      "group      0\n",
      "ab_test    0\n",
      "dtype: int64\n",
      "\n",
      "\n"
     ]
    }
   ],
   "source": [
    "nulos(calendario,\"calendario\")\n",
    "nulos(eventos,\"eventos\")\n",
    "nulos(usuarios,\"usuarios\")\n",
    "nulos(participantes,\"participantes\")"
   ]
  },
  {
   "cell_type": "markdown",
   "metadata": {},
   "source": [
    "Observaciones:\n",
    "\n",
    "-Se observa que el data frame calendario no tiene valores nulos\n",
    "\n",
    "-Se observa que el data frame eventos tiene 363447 de 423761 en una columna\n",
    "\n",
    "-Se observa que el data frame usuarios no tiene valores nulos\n",
    "\n",
    "-Se observa que el data frame participantes no tiene valores nulos\n",
    "\n",
    "## Valores duplicados en los data frames"
   ]
  },
  {
   "cell_type": "code",
   "execution_count": 6,
   "metadata": {},
   "outputs": [
    {
     "name": "stdout",
     "output_type": "stream",
     "text": [
      "Valores dulicados en data frame calendario\n",
      "0\n",
      "Valores dulicados en data frame eventos\n",
      "0\n",
      "Valores dulicados en data frame usuarios\n",
      "0\n",
      "Valores dulicados en data frame participantes\n",
      "0\n"
     ]
    }
   ],
   "source": [
    "duplicados(calendario,\"calendario\")\n",
    "duplicados(eventos,\"eventos\")\n",
    "duplicados(usuarios,\"usuarios\")\n",
    "duplicados(participantes,\"participantes\")"
   ]
  },
  {
   "cell_type": "markdown",
   "metadata": {},
   "source": [
    "Observaciones:\n",
    "\n",
    "-No se han encontrado valores duplicados en el data frame calendario\n",
    "\n",
    "-No se han encontrado valores duplicados en el data frame eventos\n",
    "\n",
    "-No se han encontrado valores duplicados en el data frame usuarios\n",
    "\n",
    "-No se han encontrado valores duplicados en el data frame participantes"
   ]
  },
  {
   "cell_type": "markdown",
   "metadata": {},
   "source": [
    "#  Tratando valores nulos  <a class=\"anchor\" id=\"tvn\"></a>\n",
    "\n",
    "Dado que los detalles solo están en una pequeña porción de los datos respecto a la columnas que los contiene, puede eliminarse la columna o cambiar a \"sin detalles\" transformando el tipo de dato de la columna de float a object. "
   ]
  },
  {
   "cell_type": "code",
   "execution_count": 7,
   "metadata": {},
   "outputs": [
    {
     "name": "stdout",
     "output_type": "stream",
     "text": [
      "valores nulos del data frame eventos\n",
      "user_id       0\n",
      "event_dt      0\n",
      "event_name    0\n",
      "details       0\n",
      "dtype: int64\n",
      "\n",
      "\n"
     ]
    }
   ],
   "source": [
    "eventos['details'] = eventos['details'].fillna(\"Sin detalles\")\n",
    "nulos(eventos,\"eventos\")"
   ]
  },
  {
   "cell_type": "markdown",
   "metadata": {},
   "source": [
    "#  Conviertiendo el tipo de datos  <a class=\"anchor\" id=\"ctd\"></a>\n",
    "\n",
    "En este paso se convertirán los datos en los data frames que se consideren pertinentes para el análisis."
   ]
  },
  {
   "cell_type": "code",
   "execution_count": 8,
   "metadata": {},
   "outputs": [],
   "source": [
    "#Para data frame calendadio\n",
    "calendario['start_dt'] = pd.to_datetime(calendario['start_dt'], errors='coerce')\n",
    "calendario['finish_dt'] = pd.to_datetime(calendario['finish_dt'], errors='coerce')\n",
    "#Para el data frame eventos\n",
    "eventos['event_dt'] = pd.to_datetime(eventos['event_dt'], errors='coerce')\n",
    "#Para el data frame usuarios\n",
    "usuarios['first_date'] = pd.to_datetime(usuarios['first_date'], errors='coerce')"
   ]
  },
  {
   "cell_type": "markdown",
   "metadata": {},
   "source": [
    "#  Estudiar y comprobar los datos  <a class=\"anchor\" id=\"eyc\"></a>\n",
    "\n",
    "Primero se realizará una unión entre data frames se hace esto para poder tene usuarios asignados a ambos grupos de prueba tanto A como B, además de contar con información del evento que llevan a cabo al momento de realizar dicha prueba.\n",
    "\n",
    "Se realiza un merge inner entre los dataframes eventos y participantes"
   ]
  },
  {
   "cell_type": "code",
   "execution_count": 9,
   "metadata": {},
   "outputs": [
    {
     "name": "stdout",
     "output_type": "stream",
     "text": [
      "            user_id            event_dt event_name details group  \\\n",
      "0  96F27A054B191457 2020-12-07 04:02:40   purchase    4.99     B   \n",
      "1  831887FE7F2D6CBA 2020-12-07 06:50:29   purchase    4.99     A   \n",
      "2  A92195E3CFB83DBD 2020-12-07 00:32:07   purchase    4.99     A   \n",
      "3  354D653172FF2A2D 2020-12-07 15:45:11   purchase    4.99     A   \n",
      "4  7FCD34F47C13A9AC 2020-12-07 22:06:13   purchase    9.99     B   \n",
      "\n",
      "                   ab_test  \n",
      "0        interface_eu_test  \n",
      "1  recommender_system_test  \n",
      "2        interface_eu_test  \n",
      "3        interface_eu_test  \n",
      "4        interface_eu_test  \n"
     ]
    }
   ],
   "source": [
    "eventos_con_grupos = eventos.merge(participantes, on='user_id', how='inner')\n",
    "\n",
    "# Verificar si ahora tenemos todos los valores de group asignados\n",
    "print(eventos_con_grupos.head()) "
   ]
  },
  {
   "cell_type": "markdown",
   "metadata": {},
   "source": [
    "Ahora tenemos los eventos y a que grupo de experimento pertenecen A o B."
   ]
  },
  {
   "cell_type": "markdown",
   "metadata": {},
   "source": [
    "Número de eventos que hay en los registros"
   ]
  },
  {
   "cell_type": "code",
   "execution_count": 10,
   "metadata": {},
   "outputs": [
    {
     "name": "stdout",
     "output_type": "stream",
     "text": [
      "Número de eventos registrados totales es: 102838\n"
     ]
    }
   ],
   "source": [
    "print(\"Número de eventos registrados totales es:\",eventos_con_grupos[\"event_name\"].count())"
   ]
  },
  {
   "cell_type": "markdown",
   "metadata": {},
   "source": [
    "Número de eventos únicos"
   ]
  },
  {
   "cell_type": "code",
   "execution_count": 11,
   "metadata": {},
   "outputs": [
    {
     "name": "stdout",
     "output_type": "stream",
     "text": [
      "Número de eventos únicos es: 4\n"
     ]
    }
   ],
   "source": [
    "print(\"Número de eventos únicos es:\",eventos_con_grupos[\"event_name\"].nunique())"
   ]
  },
  {
   "cell_type": "markdown",
   "metadata": {},
   "source": [
    "Número usuarios hay en los registros"
   ]
  },
  {
   "cell_type": "code",
   "execution_count": 12,
   "metadata": {},
   "outputs": [
    {
     "name": "stdout",
     "output_type": "stream",
     "text": [
      "Número de usuarios registrados totales es: 102838\n"
     ]
    }
   ],
   "source": [
    "print(\"Número de usuarios registrados totales es:\",eventos_con_grupos[\"user_id\"].count())"
   ]
  },
  {
   "cell_type": "markdown",
   "metadata": {},
   "source": [
    "Número de usuarios únicos en los registros"
   ]
  },
  {
   "cell_type": "code",
   "execution_count": 13,
   "metadata": {},
   "outputs": [
    {
     "name": "stdout",
     "output_type": "stream",
     "text": [
      "Número de usuarios únicos es: 13638\n"
     ]
    }
   ],
   "source": [
    "print(\"Número de usuarios únicos es:\",eventos_con_grupos[\"user_id\"].nunique())"
   ]
  },
  {
   "cell_type": "markdown",
   "metadata": {},
   "source": [
    "Promedio de eventos por usuario"
   ]
  },
  {
   "cell_type": "code",
   "execution_count": 14,
   "metadata": {},
   "outputs": [
    {
     "name": "stdout",
     "output_type": "stream",
     "text": [
      "Promedio de eventos por usuarios es: 7.540548467517231\n"
     ]
    }
   ],
   "source": [
    "print(\"Promedio de eventos por usuarios es:\",eventos_con_grupos[\"event_name\"].count()/eventos_con_grupos[\"user_id\"].nunique())"
   ]
  },
  {
   "cell_type": "markdown",
   "metadata": {},
   "source": [
    "Periodo de tiempo que cubren los datos "
   ]
  },
  {
   "cell_type": "code",
   "execution_count": 15,
   "metadata": {},
   "outputs": [
    {
     "name": "stdout",
     "output_type": "stream",
     "text": [
      "Fecha mínima registrada: 2020-12-07 00:02:48\n",
      "Fecha máxima registrada: 2020-12-30 18:28:55\n"
     ]
    }
   ],
   "source": [
    "print(\"Fecha mínima registrada:\",eventos_con_grupos[\"event_dt\"].min())\n",
    "print(\"Fecha máxima registrada:\",eventos_con_grupos[\"event_dt\"].max())"
   ]
  },
  {
   "cell_type": "markdown",
   "metadata": {},
   "source": [
    "#  Conversión en las etapas del embudo  <a class=\"anchor\" id=\"ce\"> </a>\n",
    "Primero necesitamos encontrar el número de usuarios en cada uno de los eventos registrados además de su proporción respecto al número inicial de usuarios."
   ]
  },
  {
   "cell_type": "code",
   "execution_count": 16,
   "metadata": {},
   "outputs": [
    {
     "name": "stdout",
     "output_type": "stream",
     "text": [
      "         evento  usuarios  proporción\n",
      "0         login     13636    0.999853\n",
      "2  product_page      8923    0.654275\n",
      "3      purchase      4563    0.334580\n",
      "1  product_cart      4394    0.322188\n"
     ]
    }
   ],
   "source": [
    "Eventos_u=eventos_con_grupos.groupby(\"event_name\")[\"user_id\"].nunique().reset_index()\n",
    "Eventos_u.columns = [\"evento\", 'usuarios']\n",
    "Eventos_u=Eventos_u.sort_values(by=\"usuarios\", ascending=False)\n",
    "Eventos_u[\"proporción\"]=Eventos_u[\"usuarios\"]/eventos_con_grupos[\"user_id\"].nunique()\n",
    "print(Eventos_u)"
   ]
  },
  {
   "cell_type": "markdown",
   "metadata": {},
   "source": [
    "Si tomamos en consideración que el orden más lógico para el embudo es Login → Product Page → Product Cart → Purchase, podemos observar que el evento purchase no puede tener más usuarios que el evento product_cart dado que un usuario no puede pasar a comprar sin antes pasar al carrito, es decir, la sección donde se indica que se va a comprar.\n",
    "\n",
    "Se realizará un ajuste con el fin de tener los casos donde para llegar al evento purchase se tienen que pasar antes por el evento product_cart, obteniendo así la proporción verdadera al pasar por el embudo formado anteriormente."
   ]
  },
  {
   "cell_type": "code",
   "execution_count": 17,
   "metadata": {},
   "outputs": [
    {
     "name": "stdout",
     "output_type": "stream",
     "text": [
      "Proporción correcta Product Cart → Purchase: 1.0385\n"
     ]
    }
   ],
   "source": [
    "#Se revisa la proporción antes de ser ajustada\n",
    "usuarios_purchase = eventos_con_grupos[eventos_con_grupos['event_name'] == 'purchase']['user_id'].nunique()\n",
    "usuarios_cart=eventos_con_grupos[eventos_con_grupos['event_name'] == 'product_cart']['user_id'].nunique()\n",
    "proporcion_correcta = usuarios_purchase / usuarios_cart\n",
    "print(f\"Proporción correcta Product Cart → Purchase: {proporcion_correcta:.4f}\")"
   ]
  },
  {
   "cell_type": "markdown",
   "metadata": {},
   "source": [
    "Aplicando corrección para tomar en cuenta que siempre antes de comprar se dirige al cliente a la página product_cart antes de realizar la compra"
   ]
  },
  {
   "cell_type": "code",
   "execution_count": 18,
   "metadata": {},
   "outputs": [
    {
     "name": "stdout",
     "output_type": "stream",
     "text": [
      "Proporción corregida Product Cart → Purchase (solo usuarios que pasaron por 'product_cart'): 0.3320\n"
     ]
    }
   ],
   "source": [
    "# Filtramos los usuarios que pasaron por 'product_cart'\n",
    "usuarios_cart = eventos_con_grupos[eventos_con_grupos['event_name'] == 'product_cart']['user_id'].unique()\n",
    "# Filtramos los usuarios que pasaron por 'purchase' y que también pasaron por 'product_cart'\n",
    "usuarios_purchase = eventos_con_grupos[(eventos_con_grupos['event_name'] == 'purchase') & (eventos_con_grupos['user_id'].isin(usuarios_cart))]['user_id'].nunique()\n",
    "# Calcular la proporción de 'Product Cart → Purchase' considerando solo los usuarios que pasaron por 'product_cart'\n",
    "proporcion_corregida = usuarios_purchase / len(usuarios_cart)\n",
    "print(f\"Proporción corregida Product Cart → Purchase (solo usuarios que pasaron por 'product_cart'): {proporcion_corregida:.4f}\")\n"
   ]
  },
  {
   "cell_type": "markdown",
   "metadata": {},
   "source": [
    "Ahora que sabemos cual es la propoción correcta entre Product Cart → Purchase, procedemos a calcular las proporciones entre los eventos consecutivos."
   ]
  },
  {
   "cell_type": "code",
   "execution_count": 19,
   "metadata": {},
   "outputs": [
    {
     "name": "stdout",
     "output_type": "stream",
     "text": [
      "Proporciones entre eventos del embudo:\n",
      "login → product_page: 0.6544\n",
      "product_page → product_cart: 0.4924\n",
      "product_cart → purchase: 0.3320\n"
     ]
    }
   ],
   "source": [
    "# Definir el orden de los eventos en el embudo en orden\n",
    "embudo = [\"login\", \"product_page\", \"product_cart\", \"purchase\"]\n",
    "\n",
    "# Crear un diccionario para almacenar las proporciones entre las etapas del embudo\n",
    "proporciones_embudo = {}\n",
    "\n",
    "for i in range(1, len(embudo)):\n",
    "    evento_anterior = embudo[i-1]\n",
    "    evento_actual = embudo[i]\n",
    "    \n",
    "    # Obtener el número de usuarios en cada evento\n",
    "    usuarios_anterior = Eventos_u[Eventos_u[\"evento\"] == evento_anterior][\"usuarios\"].values[0]\n",
    "    usuarios_actual = Eventos_u[Eventos_u[\"evento\"] == evento_actual][\"usuarios\"].values[0]\n",
    "    \n",
    "    # Calcular la proporción de usuarios que pasan de un evento a otro\n",
    "    if evento_anterior == \"product_cart\" and evento_actual == \"purchase\":\n",
    "        # Para la transición product_cart → purchase, usar la proporción corregida\n",
    "        usuarios_cart = eventos_con_grupos[eventos_con_grupos['event_name'] == 'product_cart']['user_id'].unique()\n",
    "        usuarios_purchase = eventos_con_grupos[(eventos_con_grupos['event_name'] == 'purchase') & (eventos_con_grupos['user_id'].isin(usuarios_cart))]['user_id'].nunique()\n",
    "        proporcion = usuarios_purchase / len(usuarios_cart)\n",
    "    else:\n",
    "        proporcion = usuarios_actual / usuarios_anterior\n",
    "    \n",
    "    # Guarda en diccionario\n",
    "    proporciones_embudo[f\"{evento_anterior} → {evento_actual}\"] = proporcion\n",
    "\n",
    "# Imprimir las proporciones entre los eventos consecutivos en el embudo\n",
    "print(\"Proporciones entre eventos del embudo:\")\n",
    "for transicion, proporcion in proporciones_embudo.items():\n",
    "    print(f\"{transicion}: {proporcion:.4f}\")"
   ]
  },
  {
   "cell_type": "markdown",
   "metadata": {},
   "source": [
    "Porcentaje de usuarios que hacen todo el viaje desde su primer evento hasta el pago"
   ]
  },
  {
   "cell_type": "code",
   "execution_count": 20,
   "metadata": {},
   "outputs": [
    {
     "name": "stdout",
     "output_type": "stream",
     "text": [
      "Porcentaje de usuarios que están desde el inicio hasta el final: 33.462892343795836\n"
     ]
    }
   ],
   "source": [
    "usuarios_inicio = eventos_con_grupos[eventos_con_grupos[\"event_name\"] == \"login\"][\"user_id\"].nunique()\n",
    "usuarios_final = eventos_con_grupos[eventos_con_grupos[\"event_name\"] == \"purchase\"][\"user_id\"].nunique()\n",
    "p=(usuarios_final/usuarios_inicio)*100\n",
    "print(\"Porcentaje de usuarios que están desde el inicio hasta el final:\", p)"
   ]
  },
  {
   "cell_type": "markdown",
   "metadata": {},
   "source": [
    "Usuarios hay en cada grupo totales y únicos"
   ]
  },
  {
   "cell_type": "code",
   "execution_count": 21,
   "metadata": {},
   "outputs": [
    {
     "name": "stdout",
     "output_type": "stream",
     "text": [
      "  grupo  eventos\n",
      "0     A    58705\n",
      "1     B    44133\n",
      "\n",
      "\n",
      "  grupo  usuarios\n",
      "0     A      7874\n",
      "1     B      6205\n"
     ]
    }
   ],
   "source": [
    "# Contar los eventos totales en cada grupo A/B\n",
    "num_expt = eventos_con_grupos.groupby(\"group\")[\"user_id\"].count().reset_index()\n",
    "num_expt.columns = [\"grupo\", \"eventos\"]\n",
    "print(num_expt)\n",
    "print(\"\\n\")\n",
    "\n",
    "# Contar los usuarios únicos en cada grupo A/B\n",
    "num_exp = eventos_con_grupos.groupby(\"group\")[\"user_id\"].nunique().reset_index()\n",
    "num_exp.columns = [\"grupo\", \"usuarios\"]\n",
    "print(num_exp)"
   ]
  },
  {
   "cell_type": "markdown",
   "metadata": {},
   "source": [
    "#  Distribución en las muestras A y B <a class=\"anchor\" id=\"ayb\"> </a>\n",
    "Se buscará observar la distribución del número de eventos por usuario entre las muestras A y B"
   ]
  },
  {
   "cell_type": "code",
   "execution_count": 22,
   "metadata": {},
   "outputs": [
    {
     "name": "stdout",
     "output_type": "stream",
     "text": [
      "  grupo  promedio_eventos_por_usuario\n",
      "0     A                       7.45555\n",
      "1     B                       7.11249\n"
     ]
    }
   ],
   "source": [
    "# Contar el número de eventos por usuario en cada grupo\n",
    "eventos_por_usuario = eventos_con_grupos.groupby([\"group\", \"user_id\"])[\"event_name\"].count().reset_index()\n",
    "# Calcular el número promedio de eventos por usuario en cada grupo\n",
    "promedio_eventos_por_usuario = eventos_por_usuario.groupby(\"group\")[\"event_name\"].mean().reset_index()\n",
    "promedio_eventos_por_usuario.columns = [\"grupo\", \"promedio_eventos_por_usuario\"]\n",
    "print(promedio_eventos_por_usuario)"
   ]
  },
  {
   "cell_type": "markdown",
   "metadata": {},
   "source": [
    "# Usuarios en las muestras <a class=\"anchor\" id=\"uem\"></a>\n",
    "Comprobando si hay usuarios que están presentes en ambas muestras"
   ]
  },
  {
   "cell_type": "code",
   "execution_count": 23,
   "metadata": {},
   "outputs": [
    {
     "name": "stdout",
     "output_type": "stream",
     "text": [
      "Número de usuarios presentes en ambos grupos: 441\n"
     ]
    }
   ],
   "source": [
    "# Filtrar los usuarios del grupo A\n",
    "grupo_A = eventos_con_grupos[eventos_con_grupos['group'] == 'A'][['user_id']]\n",
    "# Filtrar los usuarios del grupo B\n",
    "grupo_B = eventos_con_grupos[eventos_con_grupos['group'] == 'B'][['user_id']]\n",
    "# Realizar un merge entre ambos dataframes para encontrar los usuarios comunes\n",
    "usuarios_comunes_df = pd.merge(grupo_A, grupo_B, on='user_id', how='inner')\n",
    "print(f\"Número de usuarios presentes en ambos grupos: {usuarios_comunes_df['user_id'].nunique()}\")"
   ]
  },
  {
   "cell_type": "markdown",
   "metadata": {},
   "source": [
    "Para realizar la pueba de hipótesis A y B necesitamos que no existan usuarios que estén en  ambas muestras al mismo tiempo, por lo que se excluyen."
   ]
  },
  {
   "cell_type": "code",
   "execution_count": 24,
   "metadata": {},
   "outputs": [
    {
     "name": "stdout",
     "output_type": "stream",
     "text": [
      "  grupo  usuarios\n",
      "0     A      7433\n",
      "1     B      5764\n"
     ]
    }
   ],
   "source": [
    "usuarios_comunes = usuarios_comunes_df['user_id'].unique()\n",
    "# Filtrar el dataframe para excluir a esos usuarios\n",
    "eventos_sin_usuarios_comunes = eventos_con_grupos[~eventos_con_grupos['user_id'].isin(usuarios_comunes)]\n",
    "# Verificar los usuarios que ahora están en cada grupo\n",
    "num_exp_sin_comunes = eventos_sin_usuarios_comunes.groupby(\"group\")[\"user_id\"].nunique().reset_index()\n",
    "num_exp_sin_comunes.columns = [\"grupo\", \"usuarios\"]\n",
    "print(num_exp_sin_comunes)"
   ]
  },
  {
   "cell_type": "markdown",
   "metadata": {},
   "source": [
    "El número de usuarios obtenidos finalmente para cada muestra no tiene una diferencia tan grande, por lo que podemos seguir con el análisis. "
   ]
  },
  {
   "cell_type": "markdown",
   "metadata": {},
   "source": [
    "# Número de eventos en los días <a class=\"anchor\" id=\"dn\"></a>\n",
    "\n",
    "Se obtendra la distibución del número de eventos en los días a través de una gráfica, con el fin de encontrar anomalías en los datos con los que se trabaja."
   ]
  },
  {
   "cell_type": "code",
   "execution_count": 25,
   "metadata": {},
   "outputs": [
    {
     "name": "stdout",
     "output_type": "stream",
     "text": [
      "         fecha  numero_eventos\n",
      "0   2020-12-07            2573\n",
      "1   2020-12-08            2768\n",
      "2   2020-12-09            2921\n",
      "3   2020-12-10            3018\n",
      "4   2020-12-11            3007\n",
      "5   2020-12-12            3948\n",
      "6   2020-12-13            4370\n",
      "7   2020-12-14            5800\n",
      "8   2020-12-15            5373\n",
      "9   2020-12-16            5102\n",
      "10  2020-12-17            5283\n",
      "11  2020-12-18            5437\n",
      "12  2020-12-19            5788\n",
      "13  2020-12-20            6334\n",
      "14  2020-12-21            7985\n",
      "15  2020-12-22            6562\n",
      "16  2020-12-23            5826\n",
      "17  2020-12-24            4488\n",
      "18  2020-12-26            3180\n",
      "19  2020-12-27            2939\n",
      "20  2020-12-28            2557\n",
      "21  2020-12-29            2181\n",
      "22  2020-12-30              16\n"
     ]
    }
   ],
   "source": [
    "# Asegurandonos de que 'eventos_sin_usuarios_comunes' es una copia independiente\n",
    "eventos_sin_usuarios_comunes = eventos_sin_usuarios_comunes.copy()\n",
    "# Aseguramos que la columna 'fecha' está correctamente extraída\n",
    "eventos_sin_usuarios_comunes.loc[:, 'fecha'] = eventos_sin_usuarios_comunes['event_dt'].dt.date\n",
    "# Agrupando por fecha y contar los eventos por día\n",
    "eventos_por_dia = eventos_sin_usuarios_comunes.groupby('fecha')['event_name'].count().reset_index()\n",
    "# Cambiando el nombre de las columnas\n",
    "eventos_por_dia.columns = ['fecha', 'numero_eventos']\n",
    "print(eventos_por_dia)"
   ]
  },
  {
   "cell_type": "markdown",
   "metadata": {},
   "source": [
    "Graficando"
   ]
  },
  {
   "cell_type": "code",
   "execution_count": 26,
   "metadata": {},
   "outputs": [
    {
     "data": {
      "image/png": "[encoded data removed]",
      "text/plain": [
       "<Figure size 1200x600 with 1 Axes>"
      ]
     },
     "metadata": {},
     "output_type": "display_data"
    }
   ],
   "source": [
    "\n",
    "plt.figure(figsize=(12, 6))\n",
    "plt.bar(eventos_por_dia['fecha'], eventos_por_dia['numero_eventos'], color='b')\n",
    "plt.title('Distribución del número de eventos por día')\n",
    "plt.xlabel('Fecha')\n",
    "plt.ylabel('Número de eventos')\n",
    "plt.xticks(rotation=45)\n",
    "plt.tight_layout()\n",
    "plt.show()"
   ]
  },
  {
   "cell_type": "markdown",
   "metadata": {},
   "source": [
    "# Análizando peculiaridades <a class=\"anchor\" id=\"ap\"></a>\n",
    "\n",
    "Observaciones: \n",
    "El día 25 no aparece en el gráfico ni en la tabla de eventos. Esto puede ser debido a que no se registraron eventos en ese día o que bajo las condiciones y filtros que realizamos para tener registro entre usuarios y su relación con los grupos A y B no había ningun dato que lo cumpliera.\n",
    "\n",
    "Los picos en los días previos a Navidad son probablemente consecuencia de una mayor actividad de los usuarios debido a la estacionalidad (las vísperas de Navidad suelen ser momentos clave de compras o interacciones). Esto es completamente normal y es algo que debes tener en cuenta en el análisis, ya que estos días podrían estar influenciando las métricas de manera significativa.\n",
    "\n",
    "En cuanto al día 30, el hecho de que tenga solo 16 eventos puede deberse a que el análisis está limitado a un periodo corto o reciente, ya que las pruebas A/B suelen tener una ventana de tiempo específica. Esto indica que el análisis se interrumpe en el último día disponible de datos, lo que limita la muestra en ese día específico."
   ]
  },
  {
   "cell_type": "markdown",
   "metadata": {},
   "source": [
    "# Recopilación datos de interés <a class=\"anchor\" id=\"dti\"></a>\n",
    "\n",
    "Interpretando y recompilando resultados de la prueba A/B:\n",
    "\n",
    "El porcentaje de usuarios que están desde el inicio hasta el final: 33.462892343795836\n",
    "\n",
    "Proporciones en el embudo:\n",
    "\n",
    "login: 1.0  → product_page: 0.6544 → product_cart: 0.4924 → purchase: 0.3320\n",
    "\n",
    "Usuarios únicos\n",
    "\n",
    "Grupo A con 7433 eventos\n",
    "Grupo B con 5764 eventos\n",
    "\n",
    "## Interpretación\n",
    "\n",
    "No parece haber una diferencia drástica entre los grupos A y B en cuanto a la conversión de eventos o el número de usuarios. Aunque el grupo A tiene un ligero mejor rendimiento en cuanto al número de eventos por usuario, esto no es una diferencia significativa.\n",
    "Las tasas de conversión dentro del embudo (login → product_page → product_cart → purchase) son bastante saludables, pero podría haber oportunidades de mejora en la conversión de usuarios del carrito de compras a la compra final (33.20%)."
   ]
  },
  {
   "cell_type": "markdown",
   "metadata": {},
   "source": [
    "# Prueba Z <a class=\"anchor\" id=\"pz\"></a> \n",
    "\n",
    "Comprobar las diferencias estadística entre las proporciones con la prueba Z. En este caso se usarán dos pruebas Z una a partir de la libreria proportions_ztest y la segunda a partir de formulas manuales y el uso de la tabla de distribución normal para encontrar un valor crítico para Z.\n",
    "\n",
    "## Hipótesis de la prueba Z:\n",
    "Hipótesis nula (H0): No hay diferencia significativa entre las proporciones de conversión de los dos grupos.\n",
    "\n",
    "𝑝𝐴 = 𝑝𝐵 \n",
    "\n",
    "Hipótesis alternativa (H1): Hay una diferencia significativa entre las proporciones de conversión de los dos grupos.\n",
    "\n",
    "𝑝𝐴 ≠ 𝑝𝐵"
   ]
  },
  {
   "cell_type": "markdown",
   "metadata": {},
   "source": [
    "## Prueba Z número 1"
   ]
  },
  {
   "cell_type": "code",
   "execution_count": 27,
   "metadata": {},
   "outputs": [
    {
     "name": "stdout",
     "output_type": "stream",
     "text": [
      "Valor Z: 2.0989\n",
      "P-valor: 0.0358\n",
      "Rechazamos la hipótesis nula: Hay una diferencia significativa entre los grupos A y B.\n"
     ]
    }
   ],
   "source": [
    "# Número de usuarios que completaron la conversión (compra)\n",
    "usuarios_A = eventos_sin_usuarios_comunes[eventos_sin_usuarios_comunes['group'] == 'A']\n",
    "usuarios_B = eventos_sin_usuarios_comunes[eventos_sin_usuarios_comunes['group'] == 'B']\n",
    "\n",
    "usuarios_A_purchase = usuarios_A[usuarios_A['event_name'] == 'purchase']['user_id'].nunique()\n",
    "usuarios_B_purchase = usuarios_B[usuarios_B['event_name'] == 'purchase']['user_id'].nunique()\n",
    "\n",
    "# Número total de usuarios en cada grupo\n",
    "usuarios_A_total = usuarios_A['user_id'].nunique()\n",
    "usuarios_B_total = usuarios_B['user_id'].nunique()\n",
    "\n",
    "# Definir el número de éxitos (conversiones) y el número total de observaciones (usuarios)\n",
    "count = np.array([usuarios_A_purchase, usuarios_B_purchase])  # Éxitos (conversiones)\n",
    "nobs = np.array([usuarios_A_total, usuarios_B_total])  # Observaciones (usuarios totales)\n",
    "\n",
    "# Realizar el test de proporciones\n",
    "z_statistic, p_value = proportions_ztest(count, nobs, alternative='two-sided')\n",
    "\n",
    "# Mostrar resultados\n",
    "print(f\"Valor Z: {z_statistic:.4f}\")\n",
    "print(f\"P-valor: {p_value:.4f}\")\n",
    "\n",
    "# Definir el nivel de significancia\n",
    "alpha = 0.05\n",
    "\n",
    "# Condición if-else para rechazar o no la hipótesis nula\n",
    "if p_value < alpha:\n",
    "    print(\"Rechazamos la hipótesis nula: Hay una diferencia significativa entre los grupos A y B.\")\n",
    "else:\n",
    "    print(\"No rechazamos la hipótesis nula: No hay diferencia significativa entre los grupos A y B.\")"
   ]
  },
  {
   "cell_type": "markdown",
   "metadata": {},
   "source": [
    "## Prueba Z número 2\n",
    "\n",
    "Para una prueba bilateral con 𝛼 = 0.05, se busca el valor de Z que corresponde a una probabilidad acumulada de  1 − 𝛼/2 = 0.975. Se busca en la tabla Z (tabla de distribución normal estándar) el valor correspondiente a una probabilidad acumulada de 0.975. Este valor es aproximadamente 1.96. Por  lo tanto, el Z crítico es ±1.96 o bien en este caso se utilizará norm.ppf(0.975) para determinarlo de manera más exacta."
   ]
  },
  {
   "cell_type": "code",
   "execution_count": 28,
   "metadata": {},
   "outputs": [
    {
     "name": "stdout",
     "output_type": "stream",
     "text": [
      "Valor Z: 7.848995882050986\n",
      "1.959963984540054\n",
      "Rechazamos la hipótesis nula: Hay una diferencia significativa entre los grupos A y B\n"
     ]
    }
   ],
   "source": [
    "#Calcular el número de usuarios que realizaron la conversión (compra) en el grupo A\n",
    "usuarios_conversión_A = eventos_sin_usuarios_comunes[(eventos_sin_usuarios_comunes['group'] == 'A') & (eventos_sin_usuarios_comunes['event_name'] == 'purchase')]['user_id'].nunique()\n",
    "\n",
    "# Calcular el número total de usuarios en el grupo A\n",
    "total_usuarios_A = eventos_sin_usuarios_comunes[eventos_sin_usuarios_comunes['group'] == 'A']['user_id'].nunique()\n",
    "\n",
    "# Calcular la proporción de conversión en el grupo A\n",
    "p_A = usuarios_conversión_A / total_usuarios_A\n",
    "\n",
    "# Calcular el número de usuarios que realizaron la conversión (compra) en el grupo B\n",
    "usuarios_conversión_B = eventos_sin_usuarios_comunes[(eventos_sin_usuarios_comunes['group'] == 'B') & (eventos_sin_usuarios_comunes['event_name'] == 'purchase')]['user_id'].nunique()\n",
    "\n",
    "# Calcular el número total de usuarios en el grupo B\n",
    "total_usuarios_B = eventos_sin_usuarios_comunes[eventos_sin_usuarios_comunes['group'] == 'B']['user_id'].nunique()\n",
    "\n",
    "# Calcular la proporción de conversión en el grupo B\n",
    "p_B = usuarios_conversión_B / total_usuarios_B\n",
    "\n",
    "# Definimos el número de éxitos en cada grupo (número de usuarios que completaron la acción de interés)\n",
    "x_A = eventos_sin_usuarios_comunes[eventos_sin_usuarios_comunes['group'] == 'A']['user_id'].nunique()\n",
    "x_B = eventos_sin_usuarios_comunes[eventos_sin_usuarios_comunes['group'] == 'B']['user_id'].nunique()\n",
    "\n",
    "# Definimos los tamaños de las muestras\n",
    "n_A = eventos_sin_usuarios_comunes[eventos_sin_usuarios_comunes['group'] == 'A']['user_id'].count()\n",
    "n_B = eventos_sin_usuarios_comunes[eventos_sin_usuarios_comunes['group'] == 'B']['user_id'].count()\n",
    "\n",
    "# Calculamos la proporción combinada\n",
    "P = (x_A + x_B) / (n_A + n_B)\n",
    "\n",
    "# Calculamos el valor Z\n",
    "Z = (p_A - p_B) / np.sqrt(P * (1 - P) * ((1 / n_A) + (1 / n_B)))\n",
    "\n",
    "# Mostramos el valor Z\n",
    "print(f\"Valor Z: {Z}\")\n",
    "z_critico = norm.ppf(0.975)\n",
    "print(z_critico)\n",
    "\n",
    "# Definir el nivel de significancia (alpha)\n",
    "alpha = 0.05\n",
    "\n",
    "# Definir el valor crítico Z para una prueba de dos colas con alpha=0.05\n",
    "Z_critico = z_critico\n",
    "#Poner tabla de distribución normal\n",
    "\n",
    "# Verificar si el valor Z es mayor que el valor crítico\n",
    "if abs(Z) > Z_critico:\n",
    "    print(\"Rechazamos la hipótesis nula: Hay una diferencia significativa entre los grupos A y B\")\n",
    "else:\n",
    "    print(\"No rechazamos la hipótesis nula: No hay una diferencia significativa entre los grupos A y B\")"
   ]
  },
  {
   "cell_type": "markdown",
   "metadata": {},
   "source": [
    "# Conclusiones <a class=\"anchor\" id=\"cl\"></a>"
   ]
  },
  {
   "cell_type": "markdown",
   "metadata": {},
   "source": [
    "El análisis muestra que el nuevo embudo de pago (Grupo B) tiene un impacto positivo en la conversión de los usuarios en comparación con el Grupo A (control). A pesar de que la diferencia en el rendimiento entre los dos grupos no es extremadamente grande, la diferencia es estadísticamente significativa según el valor Z y el p-valor.\n",
    "Los valores de Z: 2.0989 y P: 0.0358 son valores que nos indican que la diferencia en la conversión entre los grupos no es debida al azar y tiene un fundamento estadístico sólido.\n",
    "\n",
    "Observamos que las tasas de conversión entre las diferentes etapas del embudo (login → product_page → product_card → purchase) son razonablemente saludables, lo que indica que la mayor parte del embudo funciona correctamente. Sin embargo, se observa una caída notable entre la etapa de agregar al carrito (product_card) y la compra final (purchase), con solo 33.20% de usuarios completando la compra después de agregar productos al carrito, es como si se arrepintieran.\n",
    "\n",
    "Por ello, aunque la conversión es buena en términos generales, la caída de 66.80% de usuarios que abandonan el proceso entre el carrito y la compra final es una oportunidad de mejora importante. Esto podría ser debido a varios factores como:\n",
    "\n",
    "- Problemas en el proceso de pago.\n",
    "\n",
    "- Desconfianza de los usuarios en el método de pago.\n",
    "\n",
    "- Precios o costos adicionales que no se comunican adecuadamente.\n",
    "\n",
    "- Interrupciones en la experiencia del usuario durante el proceso de compra."
   ]
  },
  {
   "cell_type": "markdown",
   "metadata": {},
   "source": [
    "# Recomendaciones <a class=\"anchor\" id=\"rcs\"></a>\n",
    "\n",
    "- Optimizar el proceso de compra: se podría investigar más a fondo por qué los usuarios no completan la compra después de agregar al carrito. Esto podría incluir pruebas de optimización en el proceso de pago, o la introducción de incentivos (descuentos, envío gratis, etc.).\n",
    "\n",
    "- Monitoreo y segmentación: se podría realizar un análisis más detallado por segmentos para ver si ciertos grupos de usuarios se benefician más del nuevo sistema de recomendaciones.\n",
    "\n",
    "- Iterar sobre la prueba A/B: Si el nuevo sistema de recomendaciones muestra un impacto positivo en el comportamiento de los usuarios, sería ideal seguir realizando pruebas adicionales para afinar el sistema, probar nuevas variantes o realizar pequeños ajustes para maximizar su efectividad."
   ]
  }
 ],
 "metadata": {
  "kernelspec": {
   "display_name": "Python 3",
   "language": "python",
   "name": "python3"
  },
  "language_info": {
   "codemirror_mode": {
    "name": "ipython",
    "version": 3
   },
   "file_extension": ".py",
   "mimetype": "text/x-python",
   "name": "python",
   "nbconvert_exporter": "python",
   "pygments_lexer": "ipython3",
   "version": "3.13.0"
  }
 },
 "nbformat": 4,
 "nbformat_minor": 2
}
